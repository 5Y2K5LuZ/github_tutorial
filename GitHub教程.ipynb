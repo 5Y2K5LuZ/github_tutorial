{
 "cells": [
  {
   "cell_type": "markdown",
   "metadata": {},
   "source": [
    "# Git教程"
   ]
  },
  {
   "cell_type": "markdown",
   "metadata": {},
   "source": [
    "### 一，Git简介\n",
    "\n",
    "Git是目前世界上最先进的分布式版本控制系统（没有之一）。\n",
    "\n",
    "它由Linux系统之父Linus在2005年用C语言开发。\n",
    "\n",
    "Git是一个分布式版本控制系统，没有中央服务器，不同于svn等需要中央服务器的集中式版本控制系统。\n",
    "\n",
    "Git的功能：版本控制（版本管理，远程仓库，分支协作）\n",
    "\n"
   ]
  },
  {
   "cell_type": "code",
   "execution_count": 2,
   "metadata": {
    "collapsed": false
   },
   "outputs": [
    {
     "name": "stdout",
     "output_type": "stream",
     "text": [
      "C:\\shidayunpan\\allCCTVResearch\\PythonFiles\\GitHub\\git-learn\n"
     ]
    }
   ],
   "source": [
    "%cd git-learn"
   ]
  },
  {
   "cell_type": "code",
   "execution_count": 13,
   "metadata": {
    "collapsed": false
   },
   "outputs": [
    {
     "name": "stdout",
     "output_type": "stream",
     "text": [
      "Initialized empty Git repository in F:/shidayunpan/allCCTVResearch/PythonFiles/GitHub/git-learn/.git/\n"
     ]
    }
   ],
   "source": [
    "!git init"
   ]
  },
  {
   "cell_type": "code",
   "execution_count": 38,
   "metadata": {
    "collapsed": true
   },
   "outputs": [],
   "source": [
    "!git config --global user.name \"lyhue1991\"\n",
    "!git config --global user.email \"lyhue1991@163.com\""
   ]
  },
  {
   "cell_type": "code",
   "execution_count": 48,
   "metadata": {
    "collapsed": true
   },
   "outputs": [],
   "source": [
    "!echo \"hello world\" >>readme.txt"
   ]
  },
  {
   "cell_type": "code",
   "execution_count": 23,
   "metadata": {
    "collapsed": true
   },
   "outputs": [],
   "source": [
    "!git add -A"
   ]
  },
  {
   "cell_type": "code",
   "execution_count": 24,
   "metadata": {
    "collapsed": false
   },
   "outputs": [
    {
     "name": "stdout",
     "output_type": "stream",
     "text": [
      "On branch master\n",
      "\n",
      "No commits yet\n",
      "\n",
      "Changes to be committed:\n",
      "  (use \"git rm --cached <file>...\" to unstage)\n",
      "\n",
      "\tnew file:   readme.txt\n",
      "\n"
     ]
    }
   ],
   "source": [
    "!git status"
   ]
  },
  {
   "cell_type": "code",
   "execution_count": 25,
   "metadata": {
    "collapsed": false
   },
   "outputs": [
    {
     "name": "stdout",
     "output_type": "stream",
     "text": [
      "[master (root-commit) f070a48] c1\n",
      " 1 file changed, 0 insertions(+), 0 deletions(-)\n",
      " create mode 100644 readme.txt\n"
     ]
    }
   ],
   "source": [
    "!git commit -m\"C1\""
   ]
  },
  {
   "cell_type": "code",
   "execution_count": null,
   "metadata": {
    "collapsed": true
   },
   "outputs": [],
   "source": [
    "!git remote add origin https://github.com/lyhue1991/GitHub.git"
   ]
  },
  {
   "cell_type": "code",
   "execution_count": 33,
   "metadata": {
    "collapsed": true
   },
   "outputs": [],
   "source": [
    "!echo \"hello world\" >readme.txt"
   ]
  },
  {
   "cell_type": "code",
   "execution_count": 35,
   "metadata": {
    "collapsed": false
   },
   "outputs": [
    {
     "name": "stdout",
     "output_type": "stream",
     "text": [
      "Branch 'master' set up to track remote branch 'master' from 'origin'.\n"
     ]
    },
    {
     "name": "stderr",
     "output_type": "stream",
     "text": [
      "To https://github.com/lyhue1991/git-learn\n",
      " * [new branch]      master -> master\n"
     ]
    }
   ],
   "source": [
    "!git remote add origin https://github.com/lyhue1991/git-learn\n",
    "!git push -u origin master\n"
   ]
  },
  {
   "cell_type": "code",
   "execution_count": 37,
   "metadata": {
    "collapsed": false
   },
   "outputs": [
    {
     "name": "stderr",
     "output_type": "stream",
     "text": [
      "Cloning into '../liaoxuefeng'...\n"
     ]
    }
   ],
   "source": [
    "!git clone https://github.com/lyhue1991/Git-Tutorial-By-liaoxuefeng ../liaoxuefeng"
   ]
  },
  {
   "cell_type": "markdown",
   "metadata": {},
   "source": [
    "### 二，Git原理"
   ]
  },
  {
   "cell_type": "markdown",
   "metadata": {},
   "source": [
    "Git 版本控制系统 由工作区，缓存区，和版本库组成。\n",
    "\n",
    "工作区的文件 ** add ——>** 缓存区 ** commit ——> ** 版本库\n",
    "\n",
    "版本库的文件 ** reset HEAD ——> ** 缓存区 ** check out ——> ** 工作区\n",
    "\n",
    "![Git原理](http://www.runoob.com/wp-content/uploads/2015/02/1352126739_7909.jpg)"
   ]
  },
  {
   "cell_type": "markdown",
   "metadata": {},
   "source": [
    "### 三，安装配置"
   ]
  },
  {
   "cell_type": "markdown",
   "metadata": {},
   "source": [
    "1，安装Git.\n",
    "\n",
    "下载位置: [Git下载链接](https://git-scm.com/downloads)—— https://git-scm.com/downloads\n",
    "\n",
    "windows下载安装后可以在Gitbash中执行git命令，也可以在\n",
    "\n",
    "\n",
    "    "
   ]
  },
  {
   "cell_type": "markdown",
   "metadata": {},
   "source": [
    "2，配置Git.\n",
    "\n",
    "--global选项表示此配置信息对这台电脑上所有仓库都有效"
   ]
  },
  {
   "cell_type": "code",
   "execution_count": 28,
   "metadata": {
    "collapsed": true
   },
   "outputs": [],
   "source": [
    "!git config --global user.name \"lyhue1991\""
   ]
  },
  {
   "cell_type": "code",
   "execution_count": 43,
   "metadata": {
    "collapsed": true
   },
   "outputs": [],
   "source": [
    "!git config --global user.email 'lyhue1991@163.com'"
   ]
  },
  {
   "cell_type": "code",
   "execution_count": 41,
   "metadata": {
    "collapsed": false
   },
   "outputs": [
    {
     "name": "stdout",
     "output_type": "stream",
     "text": [
      "usage: git commit [<options>] [--] <pathspec>...\n",
      "\n",
      "    -q, --quiet           suppress summary after successful commit\n",
      "    -v, --verbose         show diff in commit message template\n",
      "\n",
      "Commit message options\n",
      "    -F, --file <file>     read message from file\n",
      "    --author <author>     override author for commit\n",
      "    --date <date>         override date for commit\n",
      "    -m, --message <message>\n",
      "                          commit message\n",
      "    -c, --reedit-message <commit>\n",
      "                          reuse and edit message from specified commit\n",
      "    -C, --reuse-message <commit>\n",
      "                          reuse message from specified commit\n",
      "    --fixup <commit>      use autosquash formatted message to fixup specified commit\n",
      "    --squash <commit>     use autosquash formatted message to squash specified commit\n",
      "    --reset-author        the commit is authored by me now (used with -C/-c/--amend)\n",
      "    -s, --signoff         add Signed-off-by:\n",
      "    -t, --template <file>\n",
      "                          use specified template file\n",
      "    -e, --edit            force edit of commit\n",
      "    --cleanup <default>   how to strip spaces and #comments from message\n",
      "    --status              include status in commit message template\n",
      "    -S, --gpg-sign[=<key-id>]\n",
      "                          GPG sign commit\n",
      "\n",
      "Commit contents options\n",
      "    -a, --all             commit all changed files\n",
      "    -i, --include         add specified files to index for commit\n",
      "    --interactive         interactively add files\n",
      "    -p, --patch           interactively add changes\n",
      "    -o, --only            commit only specified files\n",
      "    -n, --no-verify       bypass pre-commit and commit-msg hooks\n",
      "    --dry-run             show what would be committed\n",
      "    --short               show status concisely\n",
      "    --branch              show branch information\n",
      "    --ahead-behind        compute full ahead/behind values (EXPERIMENTAL)\n",
      "    --porcelain           machine-readable output\n",
      "    --long                show status in long format (default)\n",
      "    -z, --null            terminate entries with NUL\n",
      "    --amend               amend previous commit\n",
      "    --no-post-rewrite     bypass post-rewrite hook\n",
      "    -u, --untracked-files[=<mode>]\n",
      "                          show untracked files, optional modes: all, normal, no. (Default: all)\n",
      "\n"
     ]
    }
   ],
   "source": [
    "!git commit -help"
   ]
  },
  {
   "cell_type": "markdown",
   "metadata": {},
   "source": [
    "### 四，创建仓库 repository"
   ]
  },
  {
   "cell_type": "markdown",
   "metadata": {},
   "source": [
    "mkdir github 创建文件夹\"github\"\n",
    "\n",
    "cd github 改变当前工作目录为\"github\"\n",
    "\n",
    "pwd 查看当前目录\n",
    "\n",
    "**git init** 在当前目录创建repository\n",
    "\n",
    "ls -al   显示当前目录下全部文件详细信息，包括隐藏文件\n"
   ]
  },
  {
   "cell_type": "markdown",
   "metadata": {},
   "source": [
    "### 五，提交文件"
   ]
  },
  {
   "cell_type": "markdown",
   "metadata": {},
   "source": [
    "例如在 github 目录创建一个readme.txt文件如下。"
   ]
  },
  {
   "cell_type": "code",
   "execution_count": 1,
   "metadata": {
    "collapsed": false
   },
   "outputs": [
    {
     "name": "stdout",
     "output_type": "stream",
     "text": [
      "Writing readme.txt\n"
     ]
    }
   ],
   "source": [
    "%%writefile readme.txt\n",
    "Git is a version control system.\n",
    "Git is free software.\n"
   ]
  },
  {
   "cell_type": "markdown",
   "metadata": {},
   "source": [
    "git status  查看当前状态\n",
    "\n",
    "git add readme.txt  将readme.txt添加到暂存区\n",
    "\n",
    "git commit  -m\"write a readme file\"\n"
   ]
  },
  {
   "cell_type": "markdown",
   "metadata": {},
   "source": [
    "附加功能说明\n",
    "\n",
    "git add -A 将全部修改添加到暂存区。  (A表示all)\n",
    "\n",
    "git add .  将修改和新建添加到暂存区，但是不包括删除。\n",
    "\n",
    "git add -u 将修改和删除添加到暂存区，但是不包括新建。 (u表示update)\n",
    "\n",
    "git commit -a 先add,再提交"
   ]
  },
  {
   "cell_type": "markdown",
   "metadata": {},
   "source": [
    "### 六，比较文件"
   ]
  },
  {
   "cell_type": "markdown",
   "metadata": {},
   "source": [
    "修改readme.txt文件如下。"
   ]
  },
  {
   "cell_type": "code",
   "execution_count": 2,
   "metadata": {
    "collapsed": false
   },
   "outputs": [
    {
     "name": "stdout",
     "output_type": "stream",
     "text": [
      "Overwriting readme.txt\n"
     ]
    }
   ],
   "source": [
    "%%writefile readme.txt\n",
    "Git is a distributed version control system.\n",
    "Git is free software.\n"
   ]
  },
  {
   "cell_type": "markdown",
   "metadata": {},
   "source": [
    "git diff readme.txt  查看工作区readme.txt 和 版本库head指针指向的最新的readme.txt的区别\n",
    "\n",
    "git diff --cached readme.txt  查看暂存区readme.txt和版本库中文件区别\n",
    "\n",
    "git diff HEAD -- readme.txt  查看"
   ]
  },
  {
   "cell_type": "code",
   "execution_count": 8,
   "metadata": {
    "collapsed": true
   },
   "outputs": [],
   "source": [
    "!git diff readme.txt"
   ]
  },
  {
   "cell_type": "code",
   "execution_count": 9,
   "metadata": {
    "collapsed": false
   },
   "outputs": [
    {
     "name": "stdout",
     "output_type": "stream",
     "text": [
      "Unstaged changes after reset:\n",
      "M\tGitHub绠�鏄撴暀绋�.ipynb\n"
     ]
    }
   ],
   "source": [
    "!git reset"
   ]
  },
  {
   "cell_type": "markdown",
   "metadata": {},
   "source": [
    "### 七，版本回退"
   ]
  },
  {
   "cell_type": "markdown",
   "metadata": {},
   "source": [
    "可以用 git reset head^ 回退到上一个版本，用git reset head^^回退到上上个版本"
   ]
  },
  {
   "cell_type": "markdown",
   "metadata": {},
   "source": [
    "git log  查看当前版本库中全部版本\n",
    "\n",
    "git reset --hard head^  回退到上一个版本,并覆盖到工作区\n",
    "\n",
    "git log 查看新的版本库中的版本\n"
   ]
  },
  {
   "cell_type": "markdown",
   "metadata": {},
   "source": [
    "git 命令的选项如下：\n",
    "\n",
    "git reset --hard  head^   修改版本库，保留暂存区，保留工作区\n",
    "\n",
    "git reset --mixed head^  修改版本库，修改暂存区，保留工作区\n",
    "\n",
    "git reset --soft  head^  修改版本库，保留暂存区，保留工作区"
   ]
  },
  {
   "cell_type": "markdown",
   "metadata": {},
   "source": [
    "### 八，版本前进"
   ]
  },
  {
   "cell_type": "markdown",
   "metadata": {},
   "source": [
    "如果 版本回退后想回到会退前的版本，可以用git reflog查看该版本的 commit id 进而根据版本号进行恢复。"
   ]
  },
  {
   "cell_type": "markdown",
   "metadata": {},
   "source": [
    "git reflog \n",
    "\n",
    "git reset head b7924pe 将 HEAD 指针指向 commit id 为 b7924pe的版本"
   ]
  },
  {
   "cell_type": "markdown",
   "metadata": {
    "collapsed": true
   },
   "source": [
    "### 九，撤销修改"
   ]
  },
  {
   "cell_type": "markdown",
   "metadata": {},
   "source": [
    "需要撤销工作区的修改，使用git checkout -- filename。如果文件之前已经添加到暂存区，则会用暂存区内容覆盖，如果暂存区是干净的，则会用版本库中最新的版本覆盖。\n",
    "\n",
    "git checkout -- file命令中的--很重要，没有--，就变成了“切换到另一个分支”的命令，我们在后面的分支管理中会再次遇到git checkout命令。"
   ]
  },
  {
   "cell_type": "code",
   "execution_count": 9,
   "metadata": {
    "collapsed": false
   },
   "outputs": [
    {
     "name": "stdout",
     "output_type": "stream",
     "text": [
      "Overwriting readme.txt\n"
     ]
    }
   ],
   "source": [
    "%%writefile readme.txt\n",
    "Git is a distributed version control system.\n",
    "Git is free software.\n",
    "My stupid boss still prefer SVN."
   ]
  },
  {
   "cell_type": "code",
   "execution_count": 10,
   "metadata": {
    "collapsed": false
   },
   "outputs": [
    {
     "name": "stdout",
     "output_type": "stream",
     "text": [
      "On branch master\n",
      "Changes not staged for commit:\n",
      "  (use \"git add <file>...\" to update what will be committed)\n",
      "  (use \"git checkout -- <file>...\" to discard changes in working directory)\n",
      "\n",
      "\tmodified:   \".ipynb_checkpoints/GitHub\\347\\256\\200\\346\\230\\223\\346\\225\\231\\347\\250\\213-checkpoint.ipynb\"\n",
      "\tmodified:   \"GitHub\\347\\256\\200\\346\\230\\223\\346\\225\\231\\347\\250\\213.ipynb\"\n",
      "\tmodified:   readme.txt\n",
      "\n",
      "no changes added to commit (use \"git add\" and/or \"git commit -a\")\n"
     ]
    }
   ],
   "source": [
    "!git status"
   ]
  },
  {
   "cell_type": "code",
   "execution_count": 12,
   "metadata": {
    "collapsed": true
   },
   "outputs": [],
   "source": [
    "!git checkout -- readme.txt"
   ]
  },
  {
   "cell_type": "markdown",
   "metadata": {},
   "source": [
    "### 十，删除文件"
   ]
  },
  {
   "cell_type": "markdown",
   "metadata": {},
   "source": [
    "删除文件也是一种修改，git跟踪的是修改而非文件。因此删除文件可以直接在工作区手动删除文件，然后add 再 commit即可。也可以用 git rm newfile.txt 直接删除工作区和暂存区文件，然后再 commit即可。"
   ]
  },
  {
   "cell_type": "code",
   "execution_count": 55,
   "metadata": {
    "collapsed": true
   },
   "outputs": [],
   "source": [
    "#新建一个newfile.txt文件，准备将其删除"
   ]
  },
  {
   "cell_type": "code",
   "execution_count": 52,
   "metadata": {
    "collapsed": false
   },
   "outputs": [
    {
     "name": "stdout",
     "output_type": "stream",
     "text": [
      "Writing newfile.txt\n"
     ]
    }
   ],
   "source": [
    "%%writefile newfile.txt\n",
    "delete me."
   ]
  },
  {
   "cell_type": "code",
   "execution_count": 53,
   "metadata": {
    "collapsed": false
   },
   "outputs": [
    {
     "name": "stdout",
     "output_type": "stream",
     "text": [
      "[master 5a97b3e] add a new file\n",
      " 1 file changed, 1 insertion(+)\n",
      " create mode 100644 newfile.txt\n"
     ]
    }
   ],
   "source": [
    "!git add newfile.txt\n",
    "!git commit -m\"add a new file\""
   ]
  },
  {
   "cell_type": "code",
   "execution_count": 56,
   "metadata": {
    "collapsed": true
   },
   "outputs": [],
   "source": [
    "#用 git rm 删除 然后 commit提交"
   ]
  },
  {
   "cell_type": "code",
   "execution_count": 57,
   "metadata": {
    "collapsed": false
   },
   "outputs": [
    {
     "name": "stdout",
     "output_type": "stream",
     "text": [
      "rm 'newfile.txt'\n"
     ]
    }
   ],
   "source": [
    "!git rm newfile.txt"
   ]
  },
  {
   "cell_type": "code",
   "execution_count": 58,
   "metadata": {
    "collapsed": false
   },
   "outputs": [
    {
     "name": "stdout",
     "output_type": "stream",
     "text": [
      "[master c2257e7] delete file\n",
      " 1 file changed, 1 deletion(-)\n",
      " delete mode 100644 newfile.txt\n"
     ]
    }
   ],
   "source": [
    "!git commit -m\"delete file\""
   ]
  },
  {
   "cell_type": "code",
   "execution_count": 62,
   "metadata": {
    "collapsed": false
   },
   "outputs": [
    {
     "name": "stdout",
     "output_type": "stream",
     "text": [
      "On branch master\n",
      "nothing to commit, working tree clean\n"
     ]
    }
   ],
   "source": [
    "# 也可以手工删除文件后执行\n",
    "!git add -A\n",
    "!git commit -m\"delete a newfile\""
   ]
  },
  {
   "cell_type": "markdown",
   "metadata": {},
   "source": [
    "### 十一，使用GitHub"
   ]
  },
  {
   "cell_type": "markdown",
   "metadata": {},
   "source": [
    "ssh-keygen -t rsa -C \"your_emial@xxx.com\""
   ]
  },
  {
   "cell_type": "markdown",
   "metadata": {},
   "source": [
    "在 git bash中运行上述命令，并一路回车，在用户主目录里找到.ssh目录。\n",
    "\n",
    "目录下的id_rsa有私钥，不能泄露出去。里面的id_rsa.pub是公钥，可分享给别人。\n",
    "\n",
    "在GitHub——> settings ——> SSH Keys 页面添加SSH公钥。"
   ]
  },
  {
   "cell_type": "markdown",
   "metadata": {},
   "source": [
    "ssh -T git@github.com"
   ]
  },
  {
   "cell_type": "markdown",
   "metadata": {},
   "source": [
    "再在 git bash中运行上述命令，使得本机和github建立SSH连接"
   ]
  },
  {
   "cell_type": "code",
   "execution_count": 3,
   "metadata": {
    "collapsed": true
   },
   "outputs": [],
   "source": [
    "# 可以使用SSH地址添加远程库\n",
    "!git remote add github git@github.com:lyhue1991/git-learn.git"
   ]
  },
  {
   "cell_type": "code",
   "execution_count": 1,
   "metadata": {
    "collapsed": true
   },
   "outputs": [],
   "source": [
    "# 也可以使用http地址添加远程库\n",
    "!git remote add gitee https://gitee.com/Python_Ai_Road/git-learn"
   ]
  },
  {
   "cell_type": "code",
   "execution_count": 5,
   "metadata": {
    "collapsed": false
   },
   "outputs": [
    {
     "name": "stdout",
     "output_type": "stream",
     "text": [
      "Branch 'master' set up to track remote branch 'master' from 'gitee'.\n"
     ]
    },
    {
     "name": "stderr",
     "output_type": "stream",
     "text": [
      "To https://gitee.com/Python_Ai_Road/git-learn\n",
      " * [new branch]      master -> master\n"
     ]
    }
   ],
   "source": [
    "!git push -u gitee master"
   ]
  },
  {
   "cell_type": "code",
   "execution_count": 7,
   "metadata": {
    "collapsed": false
   },
   "outputs": [
    {
     "name": "stdout",
     "output_type": "stream",
     "text": [
      "gitee\thttps://gitee.com/Python_Ai_Road/git-learn (fetch)\n",
      "gitee\thttps://gitee.com/Python_Ai_Road/git-learn (push)\n",
      "github\tgit@github.com:lyhue1991/git-learn.git (fetch)\n",
      "github\tgit@github.com:lyhue1991/git-learn.git (push)\n"
     ]
    }
   ],
   "source": [
    "# 查看当前的远程库\n",
    "!git remote -v"
   ]
  },
  {
   "cell_type": "markdown",
   "metadata": {},
   "source": [
    "### 十二，使用码云"
   ]
  },
  {
   "cell_type": "markdown",
   "metadata": {},
   "source": [
    "同使用GitHub类似，将本机的SSH公钥添加到码云。\n",
    "\n",
    "并在git bash中运行下面指令，让本机和 码云服务器建立 SSH连接。"
   ]
  },
  {
   "cell_type": "markdown",
   "metadata": {},
   "source": [
    "ssh -T git@gitee.com"
   ]
  },
  {
   "cell_type": "code",
   "execution_count": 102,
   "metadata": {
    "collapsed": true
   },
   "outputs": [],
   "source": [
    "# 添加码云的既有项目 git_simple_tutorial.git为远程库\n",
    "!git remote add gitee git@gitee.com:Python_Ai_Road/git_simple_tutorial.git"
   ]
  },
  {
   "cell_type": "code",
   "execution_count": 104,
   "metadata": {
    "collapsed": false
   },
   "outputs": [
    {
     "name": "stdout",
     "output_type": "stream",
     "text": [
      "Branch 'master' set up to track remote branch 'master' from 'gitee'.\n"
     ]
    },
    {
     "name": "stderr",
     "output_type": "stream",
     "text": [
      "Everything up-to-date\n"
     ]
    }
   ],
   "source": [
    "# 推送本地master版本库至远程库gitee中，建立连接关系\n",
    "!git push -u gitee master"
   ]
  },
  {
   "cell_type": "code",
   "execution_count": 112,
   "metadata": {
    "collapsed": false
   },
   "outputs": [
    {
     "name": "stdout",
     "output_type": "stream",
     "text": [
      "gitee\tgit@gitee.com:Python_Ai_Road/git_simple_tutorial.git (fetch)\n",
      "gitee\tgit@gitee.com:Python_Ai_Road/git_simple_tutorial.git (push)\n",
      "github\tgit@github.com:lyhue1991/GitHub.git (fetch)\n",
      "github\tgit@github.com:lyhue1991/GitHub.git (push)\n"
     ]
    }
   ],
   "source": [
    "# 查看当前的远程库信息\n",
    "!git remote  -v"
   ]
  },
  {
   "cell_type": "code",
   "execution_count": 114,
   "metadata": {
    "collapsed": true
   },
   "outputs": [],
   "source": [
    "# 删除远程库 origin\n",
    "!git remote rm gitee"
   ]
  },
  {
   "cell_type": "markdown",
   "metadata": {},
   "source": [
    "### 十三，克隆项目"
   ]
  },
  {
   "cell_type": "markdown",
   "metadata": {},
   "source": [
    "git push 可以把本地的项目推送到远程仓库，而 git clone则可以把远程仓库克隆到本地。\n",
    "通过在 github网站上new repository,或者 fork别人的 repository然后克隆到本地。"
   ]
  },
  {
   "cell_type": "code",
   "execution_count": 116,
   "metadata": {
    "collapsed": false
   },
   "outputs": [
    {
     "name": "stdout",
     "output_type": "stream",
     "text": [
      "github\tgit@github.com:lyhue1991/GitHub.git (fetch)\n",
      "github\tgit@github.com:lyhue1991/GitHub.git (push)\n"
     ]
    }
   ],
   "source": [
    "!git remote -v"
   ]
  },
  {
   "cell_type": "markdown",
   "metadata": {},
   "source": [
    "在github 上 new 一个叫做 machine-learning.git的 repository，并克隆到本地"
   ]
  },
  {
   "cell_type": "code",
   "execution_count": 117,
   "metadata": {
    "collapsed": false
   },
   "outputs": [
    {
     "name": "stderr",
     "output_type": "stream",
     "text": [
      "Cloning into 'machine-learning'...\n"
     ]
    }
   ],
   "source": [
    "!git clone https://github.com/lyhue1991/machine-learning.git"
   ]
  },
  {
   "cell_type": "markdown",
   "metadata": {},
   "source": [
    "fork别人的项目：https://github.com/numbbbbb/Git-Tutorial-By-liaoxuefeng ，并克隆到本地"
   ]
  },
  {
   "cell_type": "code",
   "execution_count": 118,
   "metadata": {
    "collapsed": false
   },
   "outputs": [
    {
     "name": "stderr",
     "output_type": "stream",
     "text": [
      "Cloning into 'Git-Tutorial-By-liaoxuefeng'...\n"
     ]
    }
   ],
   "source": [
    "!git clone git@github.com:lyhue1991/Git-Tutorial-By-liaoxuefeng.git"
   ]
  },
  {
   "cell_type": "code",
   "execution_count": 121,
   "metadata": {
    "collapsed": false
   },
   "outputs": [
    {
     "name": "stdout",
     "output_type": "stream",
     "text": [
      "F:\\shidayunpan\\allCCTVResearch\\PythonFiles\\GitHub\\Git-Tutorial-By-liaoxuefeng\n"
     ]
    }
   ],
   "source": [
    "%cd Git-Tutorial-By-liaoxuefeng"
   ]
  },
  {
   "cell_type": "code",
   "execution_count": 122,
   "metadata": {
    "collapsed": false
   },
   "outputs": [
    {
     "name": "stdout",
     "output_type": "stream",
     "text": [
      " 驱动器 F 中的卷是 F\n",
      " 卷的序列号是 9C33-6BBD\n",
      "\n",
      " F:\\shidayunpan\\allCCTVResearch\\PythonFiles\\GitHub\\Git-Tutorial-By-liaoxuefeng 的目录\n",
      "\n",
      "2018/03/03  16:42    <DIR>          .\n",
      "2018/03/03  16:42    <DIR>          ..\n",
      "2018/03/03  16:43         2,170,443 Git教程.pdf\n",
      "2018/03/03  16:43               759 README.md\n",
      "               2 个文件      2,171,202 字节\n",
      "               2 个目录 19,630,260,224 可用字节\n"
     ]
    }
   ],
   "source": [
    "%ls"
   ]
  },
  {
   "cell_type": "code",
   "execution_count": 129,
   "metadata": {
    "collapsed": false
   },
   "outputs": [
    {
     "name": "stdout",
     "output_type": "stream",
     "text": [
      "Reinitialized existing Git repository in F:/shidayunpan/allCCTVResearch/PythonFiles/GitHub/Git-Tutorial-By-liaoxuefeng/.git/\n"
     ]
    }
   ],
   "source": [
    "!git init"
   ]
  },
  {
   "cell_type": "code",
   "execution_count": 130,
   "metadata": {
    "collapsed": false
   },
   "outputs": [
    {
     "name": "stdout",
     "output_type": "stream",
     "text": [
      "origin\n"
     ]
    }
   ],
   "source": [
    "!git remote"
   ]
  },
  {
   "cell_type": "code",
   "execution_count": 132,
   "metadata": {
    "collapsed": false
   },
   "outputs": [
    {
     "name": "stdout",
     "output_type": "stream",
     "text": [
      "Overwriting readme.md\n"
     ]
    }
   ],
   "source": [
    "%%writefile readme.md\n",
    "Git-Tutorial-By-liaoxuefeng\n",
    "===========================\n",
    "\n",
    "个人非常推荐的一个Git教程，作者廖雪峰，[原文地址](http://www.liaoxuefeng.com/wiki/0013739516305929606dd18361248578c67b8067c8c017b000)。\n",
    "\n",
    "由于原文是网页，不太方便脱机阅读，所以我整理成了PDF版并进行了排版。\n",
    "\n",
    "个人排版实力有限，虽然尽力了但是还是不够完美。。。**欢迎大家提出各种意见建议**！\n",
    "\n",
    "#Gitbook版\n",
    "\n",
    "由[lvwzhen](https://github.com/lvwzhen)制作，[在线阅读](http://lvwzhen.github.io/Git-Tutorial/)，[GitHub地址](https://github.com/lvwzhen/Git-Tutorial)。\n",
    "\n",
    "Gitbook的效果很不错，推荐大家看看。\n",
    "\n",
    "#License\n",
    "基于[WTFPL](http://en.wikipedia.org/wiki/WTFPL)协议开源。\n",
    "\n",
    "#棒棒哒！\n"
   ]
  },
  {
   "cell_type": "code",
   "execution_count": 133,
   "metadata": {
    "collapsed": true
   },
   "outputs": [],
   "source": [
    "!git add -A"
   ]
  },
  {
   "cell_type": "code",
   "execution_count": 135,
   "metadata": {
    "collapsed": true
   },
   "outputs": [],
   "source": [
    "!git config --global user.email \"lyhue1991@163.com\"\n",
    "!git config --global user.name \"Liang Yun\""
   ]
  },
  {
   "cell_type": "code",
   "execution_count": 136,
   "metadata": {
    "collapsed": false
   },
   "outputs": [
    {
     "name": "stdout",
     "output_type": "stream",
     "text": [
      "[master 340c694] test\n",
      " 1 file changed, 2 insertions(+)\n"
     ]
    }
   ],
   "source": [
    "!git commit -m\"test\""
   ]
  },
  {
   "cell_type": "markdown",
   "metadata": {},
   "source": [
    "### 十四，创建分支"
   ]
  },
  {
   "cell_type": "markdown",
   "metadata": {},
   "source": [
    "为了方便多人协作，Git 允许创建多个分支branch。\n",
    "\n",
    "每个人在不同的分支上修改，然后再进行分支合并merge。\n",
    "\n",
    "如果不同的分支都修改了同一个文件，合并时会遇到冲突，需要解决冲突.\n",
    "\n",
    "一般把master叫做主分支，在项目开发中用于发布完整新版本。\n",
    "\n",
    "在master分支上通常会建一个develop分支。\n",
    "\n",
    "多个开发者在develop分支上根据负责的功能模块创建各个feature分支。\n",
    "\n",
    "适当时候把feature分支merge到develop分支上。\n",
    "\n",
    "当发布新版本时再将develop分支merge到 master分支上。"
   ]
  },
  {
   "cell_type": "code",
   "execution_count": 137,
   "metadata": {
    "collapsed": false
   },
   "outputs": [
    {
     "name": "stdout",
     "output_type": "stream",
     "text": [
      "F:\\shidayunpan\\allCCTVResearch\\PythonFiles\\GitHub\n"
     ]
    }
   ],
   "source": [
    "% cd .."
   ]
  },
  {
   "cell_type": "code",
   "execution_count": 138,
   "metadata": {
    "collapsed": false
   },
   "outputs": [
    {
     "name": "stdout",
     "output_type": "stream",
     "text": [
      "On branch master\n",
      "Changes not staged for commit:\n",
      "  (use \"git add <file>...\" to update what will be committed)\n",
      "  (use \"git checkout -- <file>...\" to discard changes in working directory)\n",
      "\n",
      "\tmodified:   \"GitHub\\347\\256\\200\\346\\230\\223\\346\\225\\231\\347\\250\\213.ipynb\"\n",
      "\n",
      "Untracked files:\n",
      "  (use \"git add <file>...\" to include in what will be committed)\n",
      "\n",
      "\tGit-Tutorial-By-liaoxuefeng/\n",
      "\tmachine-learning/\n",
      "\n",
      "no changes added to commit (use \"git add\" and/or \"git commit -a\")\n"
     ]
    }
   ],
   "source": [
    "!git status"
   ]
  },
  {
   "cell_type": "code",
   "execution_count": 139,
   "metadata": {
    "collapsed": false
   },
   "outputs": [
    {
     "name": "stderr",
     "output_type": "stream",
     "text": [
      "warning: LF will be replaced by CRLF in GitHub绠�鏄撴暀绋�.ipynb.\n",
      "The file will have its original line endings in your working directory.\n",
      "warning: adding embedded git repository: Git-Tutorial-By-liaoxuefeng\n",
      "hint: You've added another git repository inside your current repository.\n",
      "hint: Clones of the outer repository will not contain the contents of\n",
      "hint: the embedded repository and will not know how to obtain it.\n",
      "hint: If you meant to add a submodule, use:\n",
      "hint: \n",
      "hint: \tgit submodule add <url> Git-Tutorial-By-liaoxuefeng\n",
      "hint: \n",
      "hint: If you added this path by mistake, you can remove it from the\n",
      "hint: index with:\n",
      "hint: \n",
      "hint: \tgit rm --cached Git-Tutorial-By-liaoxuefeng\n",
      "hint: \n",
      "hint: See \"git help submodule\" for more information.\n",
      "warning: adding embedded git repository: machine-learning\n"
     ]
    }
   ],
   "source": [
    "!git add -A"
   ]
  },
  {
   "cell_type": "code",
   "execution_count": 140,
   "metadata": {
    "collapsed": false
   },
   "outputs": [
    {
     "name": "stdout",
     "output_type": "stream",
     "text": [
      "[master 5627546] 鏂板缓浜嗕袱涓�鏂囦欢澶�\n",
      " 3 files changed, 540 insertions(+), 10 deletions(-)\n",
      " create mode 160000 Git-Tutorial-By-liaoxuefeng\n",
      " create mode 160000 machine-learning\n"
     ]
    }
   ],
   "source": [
    "!git commit -m\"新建了两个文件夹\""
   ]
  },
  {
   "cell_type": "code",
   "execution_count": 2,
   "metadata": {
    "collapsed": false
   },
   "outputs": [
    {
     "name": "stdout",
     "output_type": "stream",
     "text": [
      "Initialized empty Git repository in F:/shidayunpan/allCCTVResearch/PythonFiles/GitHub/.git/\n"
     ]
    }
   ],
   "source": [
    "!git init"
   ]
  },
  {
   "cell_type": "code",
   "execution_count": 4,
   "metadata": {
    "collapsed": false
   },
   "outputs": [
    {
     "name": "stdout",
     "output_type": "stream",
     "text": [
      "[master (root-commit) d853937] add some files\n",
      " 6 files changed, 5054 insertions(+)\n",
      " create mode 100644 \".ipynb_checkpoints/GitHub\\347\\256\\200\\346\\230\\223\\346\\225\\231\\347\\250\\213-Live-checkpoint.ipynb\"\n",
      " create mode 100644 \".ipynb_checkpoints/GitHub\\347\\256\\200\\346\\230\\223\\346\\225\\231\\347\\250\\213-checkpoint.ipynb\"\n",
      " create mode 160000 Git-Tutorial-By-liaoxuefeng\n",
      " create mode 100644 \"GitHub\\347\\256\\200\\346\\230\\223\\346\\225\\231\\347\\250\\213-Live.ipynb\"\n",
      " create mode 100644 \"GitHub\\347\\256\\200\\346\\230\\223\\346\\225\\231\\347\\250\\213.ipynb\"\n",
      " create mode 160000 machine-learning\n"
     ]
    }
   ],
   "source": [
    "!git add -A\n",
    "!git commit -m\"add some files\""
   ]
  },
  {
   "cell_type": "code",
   "execution_count": 27,
   "metadata": {
    "collapsed": false
   },
   "outputs": [
    {
     "name": "stdout",
     "output_type": "stream",
     "text": [
      "F:\\shidayunpan\\allCCTVResearch\\PythonFiles\\GitHub\\git-learn\n"
     ]
    }
   ],
   "source": [
    "%cd git-learn"
   ]
  },
  {
   "cell_type": "code",
   "execution_count": 2,
   "metadata": {
    "collapsed": false
   },
   "outputs": [
    {
     "name": "stdout",
     "output_type": "stream",
     "text": [
      "On branch master\n",
      "Changes not staged for commit:\n",
      "  (use \"git add <file>...\" to update what will be committed)\n",
      "  (use \"git checkout -- <file>...\" to discard changes in working directory)\n",
      "\n",
      "\tmodified:   .ipynb_checkpoints/GitHub绠�鏄撴暀绋�-checkpoint.ipynb\n",
      "\tmodified:   GitHub绠�鏄撴暀绋�.ipynb\n",
      "\n",
      "no changes added to commit (use \"git add\" and/or \"git commit -a\")\n"
     ]
    }
   ],
   "source": [
    "!git status"
   ]
  },
  {
   "cell_type": "code",
   "execution_count": 4,
   "metadata": {
    "collapsed": false
   },
   "outputs": [
    {
     "name": "stdout",
     "output_type": "stream",
     "text": [
      "* 89f592e 鎻愪氦淇�鏀�\n",
      "* d853937 add some files\n"
     ]
    }
   ],
   "source": [
    "!git log --oneline --graph"
   ]
  },
  {
   "cell_type": "code",
   "execution_count": 5,
   "metadata": {
    "collapsed": false
   },
   "outputs": [
    {
     "name": "stdout",
     "output_type": "stream",
     "text": [
      "M\tGitHub绠�鏄撴暀绋�.ipynb\n"
     ]
    },
    {
     "name": "stderr",
     "output_type": "stream",
     "text": [
      "Switched to a new branch 'develop'\n"
     ]
    }
   ],
   "source": [
    "!git checkout -b develop"
   ]
  },
  {
   "cell_type": "code",
   "execution_count": 6,
   "metadata": {
    "collapsed": false
   },
   "outputs": [
    {
     "name": "stdout",
     "output_type": "stream",
     "text": [
      "M\tGitHub绠�鏄撴暀绋�.ipynb\n"
     ]
    },
    {
     "name": "stderr",
     "output_type": "stream",
     "text": [
      "Switched to branch 'master'\n"
     ]
    }
   ],
   "source": [
    "!git checkout master"
   ]
  },
  {
   "cell_type": "code",
   "execution_count": 10,
   "metadata": {
    "collapsed": false
   },
   "outputs": [
    {
     "name": "stdout",
     "output_type": "stream",
     "text": [
      "* 89f592e4126749e9657953eb3779c327b2e49c26 鎻愪氦淇�鏀�\n",
      "* d85393774fd2e6019c3fc53130bb0bfa2e075b22 add some files\n",
      "* b4c016403bc0d19c99ecde851fd6226ab044cc34 delete a newfile\n",
      "* 64b8735cc3ddd27e6e5a9bc4918f80cb8fb5664a delete a newfile\n",
      "* c2257e7ef7db674e033aa73c3159f10d8ff49cc8 delete file\n",
      "* 5a97b3e3a7ea6a6dd7ad44530f98b26123358cee add a new file\n",
      "* 4f79d800f24f1155530c9b629dae8fb5ec9169cd delete file\n",
      "* a0be098cbc73088dc3e6c26edd703526d1b93b31 add a new file\n",
      "* 5ca48d076469cf55be97e2baefa8d40fe031994b delete a newfile\n",
      "* 17a00adcf3fd518385a538fa6f271d80f5d33ca9 delete a file\n",
      "* 4aa8b42303b29b879570ee0a74c291fd61997f6a add a new file\n",
      "* 2514699e5e56c3eaff601ffcbcca65e9718ad5ab delete newfile\n",
      "* 7a968433370c1bc87eb2417b5d9db7dcfeabba65 add a new file\n",
      "* 20c46a2900fe8301c574c6bdd188596568a85bcd add a new file\n",
      "* f46bf876d8e325205ee9406fb34ec499126ae855 add a new file\n",
      "* b7924be28bb64f95afb428fb9f99bc7888f1c750 淇�鏀逛簡txt鏂囦欢\n",
      "* c2942c714384a8f0543bab6374ee0c9a66997b55 澧炲姞GIT鏁欑▼鍘熺悊\n",
      "* c2c3e3bc316ebeb90e4f6603d405a52c14c107cd add a .ipnb file\n"
     ]
    }
   ],
   "source": [
    "!git log --pretty=oneline --graph --all"
   ]
  },
  {
   "cell_type": "code",
   "execution_count": 12,
   "metadata": {
    "collapsed": false
   },
   "outputs": [
    {
     "name": "stdout",
     "output_type": "stream",
     "text": [
      "89f592e HEAD@{0}: checkout: moving from develop to master\n",
      "89f592e HEAD@{1}: checkout: moving from master to develop\n",
      "89f592e HEAD@{2}: commit: 鎻愪氦淇�鏀�\n",
      "d853937 HEAD@{3}: commit (initial): add some files\n",
      "5627546 HEAD@{4}: commit: 鏂板缓浜嗕袱涓�鏂囦欢澶�\n",
      "b4c0164 HEAD@{5}: commit: delete a newfile\n",
      "64b8735 HEAD@{6}: commit: delete a newfile\n",
      "c2257e7 HEAD@{7}: commit: delete file\n",
      "5a97b3e HEAD@{8}: commit: add a new file\n",
      "4f79d80 HEAD@{9}: commit: delete file\n",
      "a0be098 HEAD@{10}: commit: add a new file\n",
      "5ca48d0 HEAD@{11}: commit: delete a newfile\n",
      "17a00ad HEAD@{12}: commit: delete a file\n",
      "4aa8b42 HEAD@{13}: commit: add a new file\n",
      "2514699 HEAD@{14}: commit: delete newfile\n",
      "7a96843 HEAD@{15}: commit: add a new file\n",
      "20c46a2 HEAD@{16}: commit: add a new file\n",
      "f46bf87 HEAD@{17}: reset: moving to HEAD\n",
      "f46bf87 HEAD@{18}: commit: add a new file\n",
      "b7924be HEAD@{19}: reset: moving to b7924be\n",
      "c2942c7 HEAD@{20}: reset: moving to head^\n",
      "b7924be HEAD@{21}: reset: moving to b7924be\n",
      "c2942c7 HEAD@{22}: reset: moving to head^\n",
      "b7924be HEAD@{23}: reset: moving to b7924be\n",
      "c2942c7 HEAD@{24}: reset: moving to Head^\n",
      "b7924be HEAD@{25}: commit: 淇�鏀逛簡txt鏂囦欢\n",
      "c2942c7 HEAD@{26}: commit: 澧炲姞GIT鏁欑▼鍘熺悊\n",
      "c2c3e3b HEAD@{27}: commit (initial): add a .ipnb file\n"
     ]
    }
   ],
   "source": [
    "!git reflog"
   ]
  },
  {
   "cell_type": "code",
   "execution_count": 15,
   "metadata": {
    "collapsed": false
   },
   "outputs": [
    {
     "name": "stdout",
     "output_type": "stream",
     "text": [
      "diff --git a/readme.txt b/readme.txt\n",
      "new file mode 100644\n",
      "index 0000000..013b5bc\n",
      "--- /dev/null\n",
      "+++ b/readme.txt\n",
      "@@ -0,0 +1,2 @@\n",
      "+Git is a distributed version control system.\n",
      "+Git is free software.\n",
      "\\ No newline at end of file\n"
     ]
    }
   ],
   "source": [
    "!git diff c2942c7 b7924be -- readme.txt"
   ]
  },
  {
   "cell_type": "code",
   "execution_count": 28,
   "metadata": {
    "collapsed": false
   },
   "outputs": [
    {
     "name": "stdout",
     "output_type": "stream",
     "text": [
      "usage: git [--version] [--help] [-C <path>] [-c name=value]\n",
      "           [--exec-path[=<path>]] [--html-path] [--man-path] [--info-path]\n",
      "           [-p | --paginate | --no-pager] [--no-replace-objects] [--bare]\n",
      "           [--git-dir=<path>] [--work-tree=<path>] [--namespace=<name>]\n",
      "           <command> [<args>]\n",
      "\n",
      "available git commands in 'C:\\ProgramFiles\\Git\\mingw64/libexec/git-core'\n",
      "\n",
      "  add                     gc                      receive-pack\n",
      "  add--interactive        get-tar-commit-id       reflog\n",
      "  am                      grep                    remote\n",
      "  annotate                gui                     remote-ext\n",
      "  apply                   gui--askpass            remote-fd\n",
      "  archimport              gui--askyesno           remote-ftp\n",
      "  archive                 gui.tcl                 remote-ftps\n",
      "  askpass                 hash-object             remote-http\n",
      "  bisect                  help                    remote-https\n",
      "  bisect--helper          http-backend            repack\n",
      "  blame                   http-fetch              replace\n",
      "  branch                  http-push               request-pull\n",
      "  bundle                  imap-send               rerere\n",
      "  cat-file                index-pack              reset\n",
      "  check-attr              init                    rev-list\n",
      "  check-ignore            init-db                 rev-parse\n",
      "  check-mailmap           instaweb                revert\n",
      "  check-ref-format        interpret-trailers      rm\n",
      "  checkout                log                     send-email\n",
      "  checkout-index          ls-files                send-pack\n",
      "  cherry                  ls-remote               sh-i18n--envsubst\n",
      "  cherry-pick             ls-tree                 shortlog\n",
      "  citool                  mailinfo                show\n",
      "  clean                   mailsplit               show-branch\n",
      "  clone                   merge                   show-index\n",
      "  column                  merge-base              show-ref\n",
      "  commit                  merge-file              stage\n",
      "  commit-tree             merge-index             stash\n",
      "  config                  merge-octopus           status\n",
      "  count-objects           merge-one-file          stripspace\n",
      "  credential              merge-ours              submodule\n",
      "  credential-manager      merge-recursive         submodule--helper\n",
      "  credential-store        merge-resolve           subtree\n",
      "  credential-wincred      merge-subtree           svn\n",
      "  cvsexportcommit         merge-tree              symbolic-ref\n",
      "  cvsimport               mergetool               tag\n",
      "  daemon                  mktag                   unpack-file\n",
      "  describe                mktree                  unpack-objects\n",
      "  diff                    mv                      update\n",
      "  diff-files              name-rev                update-git-for-windows\n",
      "  diff-index              notes                   update-index\n",
      "  diff-tree               p4                      update-ref\n",
      "  difftool                pack-objects            update-server-info\n",
      "  difftool--helper        pack-redundant          upload-archive\n",
      "  fast-export             pack-refs               upload-pack\n",
      "  fast-import             patch-id                var\n",
      "  fetch                   prune                   verify-commit\n",
      "  fetch-pack              prune-packed            verify-pack\n",
      "  filter-branch           pull                    verify-tag\n",
      "  fmt-merge-msg           push                    web--browse\n",
      "  for-each-ref            quiltimport             whatchanged\n",
      "  format-patch            read-tree               worktree\n",
      "  fsck                    rebase                  write-tree\n",
      "  fsck-objects            rebase--helper\n",
      "\n",
      "git commands available from elsewhere on your $PATH\n",
      "\n",
      "  flow  lfs\n",
      "\n",
      "'git help -a' and 'git help -g' list available subcommands and some\n",
      "concept guides. See 'git help <command>' or 'git help <concept>'\n",
      "to read about a specific subcommand or concept.\n"
     ]
    }
   ],
   "source": [
    "!git help -a"
   ]
  }
 ],
 "metadata": {
  "anaconda-cloud": {},
  "kernelspec": {
   "display_name": "Python [default]",
   "language": "python",
   "name": "python3"
  },
  "language_info": {
   "codemirror_mode": {
    "name": "ipython",
    "version": 3
   },
   "file_extension": ".py",
   "mimetype": "text/x-python",
   "name": "python",
   "nbconvert_exporter": "python",
   "pygments_lexer": "ipython3",
   "version": "3.5.2"
  }
 },
 "nbformat": 4,
 "nbformat_minor": 2
}
